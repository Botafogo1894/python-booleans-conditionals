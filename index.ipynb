{
 "cells": [
  {
   "cell_type": "markdown",
   "metadata": {},
   "source": [
    "# Booleans, Operators & Conditionals"
   ]
  },
  {
   "cell_type": "markdown",
   "metadata": {},
   "source": [
    "Boolean values are generally `True` and `False` in Python. In fact, boolean values are used heavily in programming languages since they all eventually compile to binary code -- like in the matrix."
   ]
  },
  {
   "cell_type": "markdown",
   "metadata": {},
   "source": [
    "![matrix](matrix_binary.png)"
   ]
  },
  {
   "cell_type": "markdown",
   "metadata": {},
   "source": [
    "Binary code is just `0`s and `1`s, On and Off, Yes and No, or *True* and *False*. \n",
    "\n",
    "In Python as with many other languages, there are things that are not purely `True` or `False`, but their value can be treated as `True` or `False`. We call these ***Truthy*** and ***Falsy***. So, while the value of the number `1` is not specifically `True`, it is Truthy (as are all other positive and negative intergers). Conversely, while the value of the number `0` is not specifically `False`, it is Falsy. We can test this with the `bool` operator, which returns to us the Boolean value of something (i.e. a truthy element returns True and a Falsy element returns False)."
   ]
  },
  {
   "cell_type": "markdown",
   "metadata": {},
   "source": [
    "## bool() operator"
   ]
  },
  {
   "cell_type": "code",
   "execution_count": 1,
   "metadata": {},
   "outputs": [
    {
     "name": "stdout",
     "output_type": "stream",
     "text": [
      "1. True\n",
      "2. False\n",
      "3. True\n",
      "4. False\n"
     ]
    }
   ],
   "source": [
    "# testing truthiness and falsiness\n",
    "print('1.', bool(True)) # True\n",
    "print('2.', bool(False)) # False\n",
    "print('3.', bool(1)) # True \n",
    "print('4.', bool(0)) # False"
   ]
  },
  {
   "cell_type": "code",
   "execution_count": 2,
   "metadata": {},
   "outputs": [
    {
     "name": "stdout",
     "output_type": "stream",
     "text": [
      "1. True\n",
      "2. False\n",
      "3. True\n",
      "4. False\n"
     ]
    }
   ],
   "source": [
    "# less obvious examples\n",
    "print('1.', bool(\"hello\")) # string 'hello' - True\n",
    "print('2.', bool([])) # empty list - False\n",
    "print('3.', bool(-300)) # negative number - True\n",
    "print('4.', bool(\"\")) # empty string - False"
   ]
  },
  {
   "cell_type": "markdown",
   "metadata": {},
   "source": [
    "Here is a list of all the falsy values in Python:\n",
    "\n",
    "*for now, the bolded examples are most important*\n",
    "* **None**\n",
    "* **False**\n",
    "* **zero** of any numeric type, for example, **0**, 0L, **0.0**, 0j.\n",
    "* **any empty sequence**, for example, **'', (), []**.\n",
    "* **any empty mapping or dictionary**, for example, **{}**.\n",
    "* instances of user-defined classes, if the class defines a `__nonzero__()` or `__len__()` method, when that method returns the integer zero or bool value False.\n",
    "\n",
    "A list of all falsy values and more information on Booleans in Python can be found [here]('https://docs.python.org/2/library/stdtypes.html')."
   ]
  },
  {
   "cell_type": "markdown",
   "metadata": {},
   "source": [
    "## Other things that return Boolean values - Comparison Operators"
   ]
  },
  {
   "cell_type": "markdown",
   "metadata": {},
   "source": [
    "Comparison operators have a return value that is either True or False. In Python, comparison operators are:\n",
    "```python\n",
    "== # tests equality between two elements\n",
    "!= # tests inequality between two elements\n",
    "<, >, <=, >= # each tests the value between two elements\n",
    "```\n",
    "Perhaps the last line's operators are a little more familiar because we've seen these operators in math classes. But the first two might be bit more confusing, so, let's dive into those first.\n",
    "\n",
    "The double equals operator (==) is testing whether the value of element1 is equal to that of element2.\n",
    "```python \n",
    "False == True # returns False\n",
    "False == False # returns True\n",
    "10 == 20 # returns False\n",
    "10 == 10 # returns True\n",
    "\"hi\" == \"HI\" # returns False\n",
    "\"heLLo\" == \"heLLo\" # returns True\n",
    "```\n",
    "\n",
    "The bang equals operator (!=) is testing whether the value of element1 is **not** equal to that of element2.\n",
    "\n",
    "```python \n",
    "True != True # returns False\n",
    "True != False # returns True\n",
    "10 != 20 # returns True\n",
    "10 != 10 # returns False\n",
    "\"hi\" != \"HI\" # returns True\n",
    "\"heLLo\" != \"heLLo\" # returns False\n",
    "```\n",
    "\n"
   ]
  },
  {
   "cell_type": "code",
   "execution_count": 1,
   "metadata": {},
   "outputs": [
    {
     "name": "stdout",
     "output_type": "stream",
     "text": [
      "1. False\n",
      "2. False\n",
      "3. True\n",
      "4. False\n",
      "5. True\n",
      "6. True\n"
     ]
    }
   ],
   "source": [
    "print('1.', True != True) # False\n",
    "print('2.', False == True) # False\n",
    "print('3.', 10 == 10) # True\n",
    "print('4.', \"hi\" == \"HI\") # False\n",
    "print('5.', type(0) == int) # True\n",
    "print('6.', [\"hi\"] == [\"hi\"]) # True"
   ]
  },
  {
   "cell_type": "code",
   "execution_count": null,
   "metadata": {},
   "outputs": [],
   "source": []
  }
 ],
 "metadata": {
  "kernelspec": {
   "display_name": "Python 3",
   "language": "python",
   "name": "python3"
  },
  "language_info": {
   "codemirror_mode": {
    "name": "ipython",
    "version": 3
   },
   "file_extension": ".py",
   "mimetype": "text/x-python",
   "name": "python",
   "nbconvert_exporter": "python",
   "pygments_lexer": "ipython3",
   "version": "3.6.5"
  }
 },
 "nbformat": 4,
 "nbformat_minor": 2
}
