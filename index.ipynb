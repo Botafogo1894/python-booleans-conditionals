{
 "cells": [
  {
   "cell_type": "markdown",
   "metadata": {},
   "source": [
    "# Booleans, Operators & Conditionals"
   ]
  },
  {
   "cell_type": "markdown",
   "metadata": {},
   "source": [
    "Boolean values are generally `True` and `False` in Python. In fact, boolean values are used heavily in programming languages since they all eventually compile to binary code -- like in the matrix."
   ]
  },
  {
   "cell_type": "markdown",
   "metadata": {},
   "source": [
    "![matrix](matrix_binary.png)"
   ]
  },
  {
   "cell_type": "markdown",
   "metadata": {},
   "source": [
    "Binary code is just `0`s and `1`s, On and Off, Yes and No, or *True* and *False*. \n",
    "\n",
    "In Python as with many other languages, there are things that are not purely `True` or `False`, but their value can be treated as `True` or `False`. We call these ***Truthy*** and ***Falsy***. So, while the value of the number `1` is not specifically `True`, it is Truthy (as are all other positive and negative intergers). Conversely, while the value of the number `0` is not specifically `False`, it is Falsy. We can test this with the `bool` operator, which returns to us the Boolean value of something (i.e. a truthy element returns True and a Falsy element returns False)."
   ]
  },
  {
   "cell_type": "markdown",
   "metadata": {},
   "source": [
    "## bool() operator"
   ]
  },
  {
   "cell_type": "code",
   "execution_count": null,
   "metadata": {},
   "outputs": [],
   "source": [
    "# testing truthiness and falsiness\n",
    "print('1.', bool(True)) # True\n",
    "print('2.', bool(False)) # False\n",
    "print('3.', bool(1)) # True \n",
    "print('4.', bool(0)) # False"
   ]
  },
  {
   "cell_type": "code",
   "execution_count": null,
   "metadata": {},
   "outputs": [],
   "source": [
    "# less obvious examples\n",
    "print('1.', bool(\"hello\")) # string 'hello' - True\n",
    "print('2.', bool([])) # empty list - False\n",
    "print('3.', bool(-300)) # negative number - True\n",
    "print('4.', bool(\"\")) # empty string - False"
   ]
  },
  {
   "cell_type": "markdown",
   "metadata": {},
   "source": [
    "Here is a list of all the falsy values in Python:\n",
    "\n",
    "*for now, the bolded examples are most important*\n",
    "* **None**\n",
    "* **False**\n",
    "* **zero** of any numeric type, for example, **0**, 0L, **0.0**, 0j.\n",
    "* **any empty sequence**, for example, **'', (), []**.\n",
    "* **any empty mapping or dictionary**, for example, **{}**.\n",
    "* instances of user-defined classes, if the class defines a `__nonzero__()` or `__len__()` method, when that method returns the integer zero or bool value False.\n",
    "\n",
    "A list of all falsy values and more information on Booleans in Python can be found [here]('https://docs.python.org/2/library/stdtypes.html')."
   ]
  },
  {
   "cell_type": "markdown",
   "metadata": {},
   "source": [
    "## Other things that return Boolean values - Comparison Operators"
   ]
  },
  {
   "cell_type": "markdown",
   "metadata": {},
   "source": [
    "Comparison operators (or Relational operators) have a return value that is either True or False. In Python, comparison operators are:\n",
    "```python\n",
    "== # tests equality between two elements\n",
    "!= # tests inequality between two elements\n",
    "<, >, <=, >= # each tests the value between two elements\n",
    "```\n",
    "Perhaps the last line's operators are a little more familiar because we've seen these operators in math classes. But the first two might be bit more confusing, so, let's dive into those first.\n",
    "\n",
    "The double equals operator (==) is testing whether the value of element1 is equal to that of element2.\n",
    "```python \n",
    "False == True # returns False\n",
    "False == False # returns True\n",
    "10 == 20 # returns False\n",
    "10 == 10 # returns True\n",
    "\"hi\" == \"HI\" # returns False\n",
    "\"heLLo\" == \"heLLo\" # returns True\n",
    "```\n",
    "\n",
    "The bang equals operator (!=) is testing whether the value of element1 is **not** equal to that of element2.\n",
    "\n",
    "```python \n",
    "True != True # returns False\n",
    "True != False # returns True\n",
    "10 != 20 # returns True\n",
    "10 != 10 # returns False\n",
    "\"hi\" != \"HI\" # returns True\n",
    "\"heLLo\" != \"heLLo\" # returns False\n",
    "```\n",
    "\n"
   ]
  },
  {
   "cell_type": "code",
   "execution_count": null,
   "metadata": {},
   "outputs": [],
   "source": [
    "print('1.', True != True) # False\n",
    "print('2.', False == True) # False\n",
    "print('3.', 10 == 10) # True\n",
    "print('4.', \"hi\" == \"HI\") # False\n",
    "print('5.', type(0) == int) # True\n",
    "print('6.', [\"hi\"] == [\"hi\"]) # True"
   ]
  },
  {
   "cell_type": "markdown",
   "metadata": {},
   "source": [
    "The greater than (`>`), less than (`<`), greater than or equal to (`>=`) and less than or equal (`<=`) to operators also only return True or False from an operation."
   ]
  },
  {
   "cell_type": "code",
   "execution_count": null,
   "metadata": {},
   "outputs": [],
   "source": [
    "print('1.', True > True) # False\n",
    "print('2.', True >= True) # True\n",
    "print('3.', 10 <= 10) # True\n",
    "print('4.', 7 < 7) # False\n",
    "print('5.', 10 < 100) # True\n",
    "print('6.', 100 > 101) # False\n",
    "# you can even compare strings to see which is alphabetically greater or less than\n",
    "# a string is greater than if it comes after another string alphabetically (or if its ascii value is greater)\n",
    "# capital letters have lower ascii values (come earlier in the alphabet) than their lowercase letter counterparts\n",
    "print('7.', \"A\" < \"a\") # True \n",
    "print('8.', \"aaron\" > \"alexa\") # False\n",
    "print('9.', \"Terrance\" > \"Teresa\") # True"
   ]
  },
  {
   "cell_type": "markdown",
   "metadata": {},
   "source": [
    "## Logical Operators"
   ]
  },
  {
   "cell_type": "markdown",
   "metadata": {},
   "source": [
    "The next group of operators are logical operators. They compare truthy/falsy values. The operators are:\n",
    "```python\n",
    "and \n",
    "# Compares two elements. If both elements are truthy, the second element is returned\n",
    "# If there is a falsy value, the first falsy value is returned\n",
    "\n",
    "or \n",
    "# Compares two elements. The first truthy element is returned. \n",
    "# If both elements are falsy, the second element is returned\n",
    "\n",
    "not \n",
    "# returns a boolean value that is opposite of truthy/falsy value of the element\n",
    "```\n",
    "Let's see these in action:\n",
    "\n",
    "*try to guess what the values will be before running the code - write your answers in a comment next to the print statement*"
   ]
  },
  {
   "cell_type": "code",
   "execution_count": null,
   "metadata": {},
   "outputs": [],
   "source": [
    "print(\"1.\", 2 and 0) #\n",
    "print(\"2.\", False and 2) #\n",
    "print(\"3.\", True and 2) #\n",
    "print(\"4.\", 2 and 3) #\n",
    "print(\"5.\", 2 or []) #\n",
    "print(\"6.\", 0 or []) #\n",
    "print(\"7.\", not False) #\n",
    "print(\"8.\", not True) #\n",
    "print(\"9.\", not []) #\n",
    "print(\"10.\", not 0) #\n",
    "print(\"11.\", not 100) #"
   ]
  },
  {
   "cell_type": "markdown",
   "metadata": {},
   "source": [
    "## Identity Operators"
   ]
  },
  {
   "cell_type": "markdown",
   "metadata": {},
   "source": [
    "The next type of operators are identity operators, `is` and `is not`. They check to see if one element is or is not the other element. This is similar to `!=` and `==`. However there is one key difference. The `!=` and `==` check to see if the value of each element is the same, however, the `is` and `is not` operators check to see if the elements are the same element. \n",
    "\n",
    "Let's check it out:\n",
    "\n",
    "*again, try to find the correct return value for each example and write the answer in a comment next to the print statement*"
   ]
  },
  {
   "cell_type": "code",
   "execution_count": null,
   "metadata": {},
   "outputs": [],
   "source": [
    "x = {'name': \"example\"}\n",
    "b = x\n",
    "c = {'name': \"example\"}\n",
    "print(\"1.\", {} is {}) #\n",
    "print(\"1A.\", {} == {}) #\n",
    "print(\"2.\", [] is []) #\n",
    "print(\"3.\", \"Hi\" is \"Hi\") #\n",
    "print(\"4.\", [\"same\"] is [\"same\"]) #\n",
    "print(\"4A.\", [\"same\"] == [\"same\"]) #\n",
    "print(\"5.\", 9 is not 10) #\n",
    "print(\"6.\", x is b) #\n",
    "print(\"7.\", b is c) #\n",
    "print(\"7A.\", b == c) #\n",
    "print(\"8.\", x is not c) #"
   ]
  },
  {
   "cell_type": "markdown",
   "metadata": {},
   "source": [
    "As we can see, the `is` and `is not` operators are checking to see if the objects are exactly the same object in memory. However, the `==` and `!=` operators are simply checking to see if the value of each element is the same. This will become clearer as we learn more about how python stores data. \n",
    "\n",
    "All objects are stored in a specific place in memory, we can think of this as an address on the computer. All objects have their own unique address. When we use the `is` or `is not` operator, we are checking to see if the address of the object is the same as another object. When we use the `==` or `!=` operators, we are checking to see if they are basically equal in value, irrespective of whether they are the same or two different objects."
   ]
  },
  {
   "cell_type": "markdown",
   "metadata": {},
   "source": [
    "## Ternary Operator"
   ]
  },
  {
   "cell_type": "markdown",
   "metadata": {},
   "source": [
    "The next operator is the Ternary. It is a bit more of a complicated operator, but it can be very useful when you would like to decide which value to assign to a variable. Ternaries are good for one-line conditions, but anything more complex makes ternary operators quite difficult to read. Let's check it out:"
   ]
  },
  {
   "cell_type": "code",
   "execution_count": null,
   "metadata": {},
   "outputs": [],
   "source": [
    "my_condition = True\n",
    "value = 10 if my_condition else 1000\n",
    "print(value)"
   ]
  },
  {
   "cell_type": "code",
   "execution_count": null,
   "metadata": {},
   "outputs": [],
   "source": [
    "# let's say we are receiving two variables with different \n",
    "# values and we want to assign the higher value to a new variable\n",
    "x = 12\n",
    "y = 20\n",
    "new_variable = x if x > y else y\n",
    "# here we are saying, take the value of x if it is greater than the value of y. else take the value of y\n",
    "# since x > y evaluates to false, the ternary returns the value after the else statement\n",
    "print(new_variable)"
   ]
  },
  {
   "cell_type": "markdown",
   "metadata": {},
   "source": [
    "## Conditionals"
   ]
  },
  {
   "cell_type": "markdown",
   "metadata": {},
   "source": [
    "The conditonal operators in python are:\n",
    "```python\n",
    "if\n",
    "elif\n",
    "else\n",
    "```\n",
    "The `if` and `elif` statements check to see if a condition is met. The first part of any conditional is always an `if`. The `elif` and `else` statements aren't always required when writing a conditional statement, but they **do** always require being preceded by an `if`. The block of code that follows an `if` is only executed if the condition is met, the same goes for an `elif` statement. The block of code that follows an `else` is only executed if the preceding conditions for the `if` and `elif` statemtents were not met."
   ]
  },
  {
   "cell_type": "code",
   "execution_count": null,
   "metadata": {},
   "outputs": [],
   "source": [
    "x = True\n",
    "y = False\n",
    "if x:\n",
    "    print(\"If statement executed\")\n",
    "elif x:\n",
    "    print(\"elif statement executed\")\n",
    "else:\n",
    "    print(\"else statement executed\")"
   ]
  },
  {
   "cell_type": "code",
   "execution_count": null,
   "metadata": {},
   "outputs": [],
   "source": [
    "x = True\n",
    "y = False\n",
    "if y:\n",
    "    print(\"If statement executed\")\n",
    "elif x:\n",
    "    print(\"elif statement executed\")\n",
    "else:\n",
    "    print(\"else statement executed\")"
   ]
  },
  {
   "cell_type": "code",
   "execution_count": null,
   "metadata": {},
   "outputs": [],
   "source": [
    "x = True\n",
    "y = False\n",
    "if y:\n",
    "    print(\"If statement executed\")\n",
    "elif y:\n",
    "    print(\"elif statement executed\")\n",
    "else:\n",
    "    print(\"else statement executed\")"
   ]
  },
  {
   "cell_type": "code",
   "execution_count": null,
   "metadata": {},
   "outputs": [],
   "source": [
    "x = True\n",
    "y = False\n",
    "if x and y:\n",
    "    print(\"If statement executed\")\n",
    "elif \"hey\" or y:\n",
    "    print(\"elif statement executed\")\n",
    "else:\n",
    "    print(\"else statement executed\")"
   ]
  },
  {
   "cell_type": "code",
   "execution_count": null,
   "metadata": {},
   "outputs": [],
   "source": [
    "if 0:\n",
    "    print(\"If statement executed\")\n",
    "elif [] or \"\":\n",
    "    print(\"elif statement executed\")\n",
    "else:\n",
    "    print(\"else statement executed\")\n"
   ]
  },
  {
   "cell_type": "code",
   "execution_count": null,
   "metadata": {},
   "outputs": [],
   "source": [
    "# We can even NEST our if/elif/else statements!\n",
    "x = True\n",
    "y = False\n",
    "if y:\n",
    "    print(\"If statement executed\")\n",
    "elif [] or 100:\n",
    "    if [] and True:\n",
    "        print(\"Oh no... I don't get executed\")\n",
    "    elif \"NESTING, OH YEAH\":\n",
    "        print(\"Woo! I get executed\")\n",
    "else:\n",
    "    print(\"else statement executed\")"
   ]
  },
  {
   "cell_type": "markdown",
   "metadata": {},
   "source": [
    "# Summary"
   ]
  },
  {
   "cell_type": "markdown",
   "metadata": {},
   "source": [
    "Boolean values and truthy/falsy values are heavily leveraged to make sure our programs are running properly and it is paramount to understand how to use these tools in order to make our programs as dynamic and clean as possible -- True or False? True!"
   ]
  }
 ],
 "metadata": {
  "kernelspec": {
   "display_name": "Python 3",
   "language": "python",
   "name": "python3"
  },
  "language_info": {
   "codemirror_mode": {
    "name": "ipython",
    "version": 3
   },
   "file_extension": ".py",
   "mimetype": "text/x-python",
   "name": "python",
   "nbconvert_exporter": "python",
   "pygments_lexer": "ipython3",
   "version": "3.6.4"
  }
 },
 "nbformat": 4,
 "nbformat_minor": 2
}
